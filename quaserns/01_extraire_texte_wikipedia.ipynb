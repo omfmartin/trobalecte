{
 "cells": [
  {
   "cell_type": "code",
   "execution_count": null,
   "metadata": {},
   "outputs": [],
   "source": [
    "import os\n",
    "import yaml\n",
    "from pathlib import Path\n",
    "import re\n",
    "\n",
    "from bs4 import BeautifulSoup"
   ]
  },
  {
   "cell_type": "code",
   "execution_count": null,
   "metadata": {},
   "outputs": [],
   "source": [
    "# Paramètres\n",
    "with open(\"config.yml\", \"r\", encoding=\"utf-8\") as file:\n",
    "    config = yaml.safe_load(file)\n",
    "\n",
    "INPUT_DOSSIER_ARTICLES_WIKI = Path(config[\"camins\"][\"texte\"][\"dossier_articles_wiki\"])\n",
    "OUTPUT_FICHIER_WIKI_TEXTE = config[\"camins\"][\"texte\"][\"fichier_wiki_texte\"]"
   ]
  },
  {
   "cell_type": "code",
   "execution_count": null,
   "metadata": {},
   "outputs": [],
   "source": [
    "def tractar_texte_brut(texte: str) -> str:\n",
    "    caracters_latins = r\"[A-Za-zÀ-ÿ0-9\\s\\-\\(\\)\\.\\?\\!\\:\\,\\;\\%\\&\\'\\\"]\"\n",
    "    texte = re.sub(r\"\\[.+\\]\", \"\", texte)  # Levar las citaciones\n",
    "    texte = \"\".join(re.findall(caracters_latins, texte))  # Levar los caracters que son pas latins\n",
    "    texte = re.sub(r\"\\s{2,}\", \" \", texte)  # Remplaçar espacis consecutius\n",
    "    texte = texte.lower().replace(\"\\r\", \" \").replace(\"\\t\", \" \").replace(\"\\n\", \" \").replace('\"', \"\").strip()\n",
    "    return texte\n",
    "\n",
    "\n",
    "def extraire_texte(path: Path) -> str:\n",
    "    \"\"\"\n",
    "    Extraire e tractar tèxte d'un fichièr HTML.\n",
    "    \"\"\"\n",
    "    with open(path, \"r\") as fichier:\n",
    "        sopa = BeautifulSoup(fichier, \"html.parser\")\n",
    "\n",
    "    # Extraire tèxte\n",
    "    texte = \" \".join([x.get_text() for x in sopa.find_all(\"p\")])\n",
    "\n",
    "    # Tractar tèxte\n",
    "    return tractar_texte_brut(texte=texte)"
   ]
  },
  {
   "cell_type": "code",
   "execution_count": null,
   "metadata": {},
   "outputs": [],
   "source": [
    "# Obténer la lista dels noms d'articles\n",
    "nom_articles = [x for x in os.listdir(INPUT_DOSSIER_ARTICLES_WIKI) if x and x[0].isalpha()]\n",
    "\n",
    "with open(OUTPUT_FICHIER_WIKI_TEXTE, \"w\") as fichier:\n",
    "    fichier.write(f\"Article,Texte\\n\")\n",
    "    for nom_article in nom_articles:\n",
    "        path = INPUT_DOSSIER_ARTICLES_WIKI / Path(nom_article)\n",
    "        if not path.is_file():\n",
    "            continue\n",
    "\n",
    "        # Extraire tèxte de l'article\n",
    "        texte_article = extraire_texte(path)\n",
    "        if texte_article:\n",
    "            fichier.write(f'\"{nom_article}\",\"{texte_article}\"\\n')"
   ]
  }
 ],
 "metadata": {
  "kernelspec": {
   "display_name": "Python 3",
   "language": "python",
   "name": "python3"
  },
  "language_info": {
   "codemirror_mode": {
    "name": "ipython",
    "version": 3
   },
   "file_extension": ".py",
   "mimetype": "text/x-python",
   "name": "python",
   "nbconvert_exporter": "python",
   "pygments_lexer": "ipython3",
   "version": "3.10.13"
  }
 },
 "nbformat": 4,
 "nbformat_minor": 2
}
