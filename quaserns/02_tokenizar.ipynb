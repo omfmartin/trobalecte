{
 "cells": [
  {
   "cell_type": "code",
   "execution_count": 1,
   "metadata": {},
   "outputs": [],
   "source": [
    "import yaml\n",
    "from datasets import load_dataset\n",
    "from transformers import AutoTokenizer"
   ]
  },
  {
   "cell_type": "code",
   "execution_count": 2,
   "metadata": {},
   "outputs": [],
   "source": [
    "# Paramètres\n",
    "with open(\"config.yml\", \"r\", encoding=\"utf-8\") as file:\n",
    "    config = yaml.safe_load(file)\n",
    "\n",
    "INPUT_FICHIER_WIKI_TEXTE = config[\"camins\"][\"texte\"][\"fichier_wiki_texte\"]\n",
    "OUTPUT_DOSSIER_TOKENIZAIRE = config[\"camins\"][\"tokenizaire\"][\"dossier_tokenizaire\"]"
   ]
  },
  {
   "cell_type": "code",
   "execution_count": 3,
   "metadata": {},
   "outputs": [],
   "source": [
    "# Cargar ensemble de donadas\n",
    "ensemble_donadas = load_dataset(\"csv\", data_files=INPUT_FICHIER_WIKI_TEXTE)"
   ]
  },
  {
   "cell_type": "code",
   "execution_count": 4,
   "metadata": {},
   "outputs": [],
   "source": [
    "def obtenir_corpus_entrainament(ensemble_donadas, talha_lot: int = 1000):\n",
    "    \"\"\"\n",
    "    Obtenir corpus d'entrainament en lots.\n",
    "    \"\"\"\n",
    "    conjunt_entrenament = ensemble_donadas[\"train\"]\n",
    "    for idx_debuta in range(0, len(ensemble_donadas), talha_lot):\n",
    "        exemples = conjunt_entrenament[idx_debuta : idx_debuta + talha_lot]\n",
    "        yield [x.lower() for x in exemples[\"Texte\"]]\n",
    "\n",
    "\n",
    "# Obtenir corpus d'entrainament\n",
    "corpus_entrenament = obtenir_corpus_entrainament(ensemble_donadas)"
   ]
  },
  {
   "cell_type": "code",
   "execution_count": 5,
   "metadata": {},
   "outputs": [],
   "source": [
    "# Cargar tokenizer de basa\n",
    "base_tokenizaire = AutoTokenizer.from_pretrained(\n",
    "    \"gpt2\",\n",
    "    do_lower_case=True,\n",
    "    additional_special_tokens=[\"z'\", \"z-\"],\n",
    ")\n",
    "if base_tokenizaire.pad_token is None:\n",
    "    base_tokenizaire.add_special_tokens({\"pad_token\": \"[PAD]\"})"
   ]
  },
  {
   "cell_type": "code",
   "execution_count": 6,
   "metadata": {},
   "outputs": [
    {
     "name": "stdout",
     "output_type": "stream",
     "text": [
      "\n",
      "\n",
      "\n"
     ]
    }
   ],
   "source": [
    "# Entrenar un tokenizer novèl\n",
    "tokenizaire = base_tokenizaire.train_new_from_iterator(corpus_entrenament, 30000)"
   ]
  },
  {
   "cell_type": "code",
   "execution_count": 7,
   "metadata": {},
   "outputs": [
    {
     "name": "stdout",
     "output_type": "stream",
     "text": [
      "cuelha (queuille en francés) z-es una comuna occitana dau departament dau puèi de doma e la region d'auvèrnhe ròse aups. en 1789 la comuna s'apelava queulhe.\n",
      "['cuelha', 'Ġ(', 'queuille', 'Ġen', 'ĠfrancÃ©s', ')', 'Ġ', 'z-', 'es', 'Ġuna', 'Ġcomuna', 'Ġoccitana', 'Ġdau', 'Ġdepartament', 'Ġdau', 'ĠpuÃ¨i', 'Ġde', 'Ġdoma', 'Ġe', 'Ġla', 'Ġregion', 'Ġd', \"'\", 'auvÃ¨rnhe', 'ĠrÃ²se', 'Ġaups', '.', 'Ġen', 'Ġ1789', 'Ġla', 'Ġcomuna', 'Ġs', \"'\", 'apelava', 'Ġqueul', 'he', '.']\n"
     ]
    }
   ],
   "source": [
    "# Testar tokenizer\n",
    "texte = ensemble_donadas[\"train\"][10][\"Texte\"]\n",
    "tokens = tokenizaire.tokenize(texte)\n",
    "print(texte)\n",
    "print(tokens)"
   ]
  },
  {
   "cell_type": "code",
   "execution_count": 8,
   "metadata": {},
   "outputs": [
    {
     "data": {
      "text/plain": [
       "('../models/tokenizaire/tokenizer_config.json',\n",
       " '../models/tokenizaire/special_tokens_map.json',\n",
       " '../models/tokenizaire/vocab.json',\n",
       " '../models/tokenizaire/merges.txt',\n",
       " '../models/tokenizaire/added_tokens.json',\n",
       " '../models/tokenizaire/tokenizer.json')"
      ]
     },
     "execution_count": 8,
     "metadata": {},
     "output_type": "execute_result"
    }
   ],
   "source": [
    "# Salvar lo tokenizaire entrenat\n",
    "tokenizaire.save_pretrained(OUTPUT_DOSSIER_TOKENIZAIRE)"
   ]
  }
 ],
 "metadata": {
  "kernelspec": {
   "display_name": "Python 3",
   "language": "python",
   "name": "python3"
  },
  "language_info": {
   "codemirror_mode": {
    "name": "ipython",
    "version": 3
   },
   "file_extension": ".py",
   "mimetype": "text/x-python",
   "name": "python",
   "nbconvert_exporter": "python",
   "pygments_lexer": "ipython3",
   "version": "3.10.13"
  }
 },
 "nbformat": 4,
 "nbformat_minor": 2
}
